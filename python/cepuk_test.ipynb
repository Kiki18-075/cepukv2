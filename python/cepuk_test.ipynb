{
 "cells": [
  {
   "cell_type": "code",
   "execution_count": 2,
   "metadata": {},
   "outputs": [],
   "source": [
    "import glob\n",
    "import numpy as np\n",
    "import scipy\n",
    "import matplotlib.pyplot as plt\n",
    "import sklearn\n",
    "import urllib\n",
    "from sklearn.neighbors import KNeighborsClassifier\n",
    "from sklearn import neighbors\n",
    "from sklearn import preprocessing\n",
    "from sklearn.model_selection import train_test_split\n",
    "from sklearn import metrics\n",
    "from sklearn.utils import shuffle\n",
    "import pandas as pd\n",
    "from collections import Counter"
   ]
  },
  {
   "cell_type": "code",
   "execution_count": 3,
   "metadata": {},
   "outputs": [],
   "source": [
    "class KNN: \n",
    "    def __init__(self, k=3):\n",
    "        self.K=k\n",
    "\n",
    "    def train(self, X,y):\n",
    "        self.X_train = X\n",
    "        self.y_train = y\n",
    "\n",
    "    def predict(self, X):\n",
    "        y_prediksi = [self._prediksi(x) for x in X]\n",
    "        return np.array(y_prediksi)\n",
    "\n",
    "    def _prediksi(self, x):\n",
    "        jarak_titik = [self.jarak(x,x_train) for x_train in self.X_train]\n",
    "        k_terbaik = np.argsort(jarak_titik)[:self.K]\n",
    "        label_k_terbaik = [self.y_train[i] for i in k_terbaik]\n",
    "        hasil_voting = Counter(label_k_terbaik).most_common(1)\n",
    "        return hasil_voting[0][0]\n",
    "\n",
    "    def jarak(self, x1, x2):\n",
    "        return np.sqrt(np.sum((x1-x2)**2))"
   ]
  },
  {
   "cell_type": "code",
   "execution_count": 67,
   "metadata": {},
   "outputs": [],
   "source": [
    "labels = [\"kecubung\", \"kurung\", \"likingpaku\", \"mekawis\"]\n",
    "\n",
    "\n",
    "df_fitur_train = pd.read_csv(\"train_glcm_feature_training_rev.csv\")\n",
    "df_label_train = df_fitur_train.pop(\"labels\")\n",
    "df_fitur_train = np.array(df_fitur_train)\n",
    "df_label_train = np.array(df_label_train)\n",
    "\n",
    "df_fitur_test = pd.read_csv(\"test_glcm_feature_testing_rev.csv\")\n",
    "df_label_test = df_fitur_test.pop(\"labels\")\n",
    "df_fitur_test = np.array(df_fitur_test)\n",
    "df_label_test = np.array(df_label_test)\n",
    "\n"
   ]
  },
  {
   "cell_type": "code",
   "execution_count": 68,
   "metadata": {},
   "outputs": [
    {
     "name": "stdout",
     "output_type": "stream",
     "text": [
      "k1 : 1.0\n",
      "k3 : 0.9166666666666666\n",
      "k5 : 0.8276515151515151\n",
      "k7 : 0.8049242424242424\n",
      "k9 : 0.7897727272727273\n",
      "k11 : 0.7481060606060606\n",
      "k13 : 0.6988636363636364\n",
      "k15 : 0.6666666666666666\n",
      "k17 : 0.6553030303030303\n",
      "k19 : 0.6534090909090909\n"
     ]
    }
   ],
   "source": [
    "k = [1,3,5,7,9,11,13,15,17,19]\n",
    "for x in k:\n",
    "    model =  KNN(k=x)\n",
    "    model.train(df_fitur_train,df_label_train)\n",
    "    # test = np.reshape(df_fitur_test[0],(1,-1))\n",
    "    # print(test)\n",
    "    hasil = model.predict(df_fitur_test)\n",
    "    # print(hasil[0])\n",
    "    y_true = 0\n",
    "    for i in range(len(hasil)):\n",
    "        if(hasil[i]==df_label_test[i]):\n",
    "            y_true +=1\n",
    "    akurasi = y_true/len(hasil)\n",
    "    print(\"k\"+str(x),\":\", akurasi)\n",
    "    "
   ]
  },
  {
   "cell_type": "code",
   "execution_count": 69,
   "metadata": {},
   "outputs": [],
   "source": [
    "# labels = [\"kecubung\", \"kurung\", \"likingpaku\", \"mekawis\"]"
   ]
  },
  {
   "cell_type": "code",
   "execution_count": 70,
   "metadata": {},
   "outputs": [],
   "source": [
    "# df_fitur_train = pd.read_csv(\"train_glcm_feature.csv\")\n",
    "# df_label_train = df_fitur_train.pop(\"labels\")\n",
    "# df_fitur_train = np.array(df_fitur_train)\n",
    "# df_label_train = np.array(df_label_train)\n",
    "\n",
    "# df_fitur_test = pd.read_csv(\"test_glcm_feature.csv\")\n",
    "# df_label_test = df_fitur_test.pop(\"labels\")\n",
    "# df_fitur_test = np.array(df_fitur_test)\n",
    "# df_label_test = np.array(df_label_test)\n"
   ]
  },
  {
   "cell_type": "code",
   "execution_count": 71,
   "metadata": {},
   "outputs": [],
   "source": [
    "# from sklearn.metrics import accuracy_score\n",
    "# k = [1,3,5,7,9,11,13,15,17,19,21,23,25,27,29]\n",
    "# for i in k:\n",
    "#     model = KNeighborsClassifier( n_neighbors = i)\n",
    "#     model.fit(df_fitur_train,df_label_train)\n",
    "#     y_pred = model.predict(df_fitur_test)\n",
    "#     print(\"k\"+str(i),\":\",accuracy_score(df_label_test, y_pred))"
   ]
  },
  {
   "cell_type": "code",
   "execution_count": null,
   "metadata": {},
   "outputs": [],
   "source": []
  }
 ],
 "metadata": {
  "interpreter": {
   "hash": "987cbd703dfba44d9b85abc3dca62ccaba18865537b5bf4fce303cb64e6f6229"
  },
  "kernelspec": {
   "display_name": "Python 3.9.12 64-bit (windows store)",
   "language": "python",
   "name": "python3"
  },
  "language_info": {
   "codemirror_mode": {
    "name": "ipython",
    "version": 3
   },
   "file_extension": ".py",
   "mimetype": "text/x-python",
   "name": "python",
   "nbconvert_exporter": "python",
   "pygments_lexer": "ipython3",
   "version": "3.9.13"
  },
  "orig_nbformat": 4
 },
 "nbformat": 4,
 "nbformat_minor": 2
}
